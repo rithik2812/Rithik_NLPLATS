{
 "cells": [
  {
   "cell_type": "code",
   "execution_count": 1,
   "id": "85b954b3-ba6a-4146-8324-fc25d843a8a9",
   "metadata": {},
   "outputs": [],
   "source": [
    "import re\n",
    "import nltk\n",
    "from nltk.corpus import stopwords\n",
    "from nltk.tokenize import word_tokenize, sent_tokenize\n",
    "from nltk.probability import FreqDist\n",
    "from nltk.stem import WordNetLemmatizer\n",
    "from tkinter import messagebox, scrolledtext\n",
    "import tkinter as tk\n",
    "from youtube_transcript_api import YouTubeTranscriptApi"
   ]
  },
  {
   "cell_type": "code",
   "execution_count": 3,
   "id": "f3d8d8d0-0aa9-4385-ad08-4bde2cf5e727",
   "metadata": {},
   "outputs": [
    {
     "name": "stderr",
     "output_type": "stream",
     "text": [
      "[nltk_data] Downloading package punkt to /Users/anand/nltk_data...\n",
      "[nltk_data]   Package punkt is already up-to-date!\n",
      "[nltk_data] Downloading package stopwords to /Users/anand/nltk_data...\n",
      "[nltk_data]   Package stopwords is already up-to-date!\n",
      "[nltk_data] Downloading package wordnet to /Users/anand/nltk_data...\n",
      "[nltk_data]   Package wordnet is already up-to-date!\n"
     ]
    },
    {
     "data": {
      "text/plain": [
       "True"
      ]
     },
     "execution_count": 3,
     "metadata": {},
     "output_type": "execute_result"
    }
   ],
   "source": [
    "nltk.download('punkt')\n",
    "nltk.download('stopwords')\n",
    "nltk.download('wordnet')"
   ]
  },
  {
   "cell_type": "code",
   "execution_count": 5,
   "id": "5d90a10f-86a4-4062-8796-f37c342e8673",
   "metadata": {},
   "outputs": [],
   "source": [
    "#preprocessing\n",
    "def preprocess_text(text):\n",
    "    lemmatizer = WordNetLemmatizer()\n",
    "    stop_words = set(stopwords.words('english'))\n",
    "    words = word_tokenize(text.lower())\n",
    "    filtered_words = [\n",
    "        lemmatizer.lemmatize(word)\n",
    "        for word in words\n",
    "        if word.isalnum() and word not in stop_words\n",
    "    ]\n",
    "    return \" \".join(filtered_words)"
   ]
  },
  {
   "cell_type": "code",
   "execution_count": 7,
   "id": "0b7231ad-f495-4f93-82c1-49675e9b8f13",
   "metadata": {},
   "outputs": [],
   "source": [
    "def summarize_text(text, num_sentences=15):\n",
    "    sentences = sent_tokenize(text)\n",
    "    word_frequencies = FreqDist(word_tokenize(text.lower()))\n",
    "    \n",
    "    sentence_scores = {}\n",
    "    for sentence in sentences:\n",
    "        for word in word_tokenize(sentence.lower()):\n",
    "            if word in word_frequencies:\n",
    "                if sentence not in sentence_scores:\n",
    "                    sentence_scores[sentence] = word_frequencies[word]\n",
    "                else:\n",
    "                    sentence_scores[sentence] += word_frequencies[word]\n",
    "    \n",
    "    summary_sentences = sorted(sentence_scores, key=sentence_scores.get, reverse=True)[:num_sentences]\n",
    "    summary = \" \".join(summary_sentences)\n",
    "    return summary"
   ]
  },
  {
   "cell_type": "code",
   "execution_count": 9,
   "id": "14d34cf4-22dc-435e-865b-c308a80dfc57",
   "metadata": {},
   "outputs": [],
   "source": [
    "#extracting video_id\n",
    "def extract_video_id(youtube_url):\n",
    "    video_id_match = re.search(r\"(?<=v=)[^&]+\", youtube_url)\n",
    "    if video_id_match:\n",
    "        return video_id_match.group(0)\n",
    "    else:\n",
    "        raise ValueError(\"Invalid YouTube URL. Please enter a valid URL.\")"
   ]
  },
  {
   "cell_type": "code",
   "execution_count": 13,
   "id": "586a4aad-3d75-40f3-a50c-b58cf2b3caad",
   "metadata": {},
   "outputs": [],
   "source": [
    "#getting the transcript\n",
    "def get_transcript(video_id):\n",
    "    try:\n",
    "        transcript = YouTubeTranscriptApi.get_transcript(video_id)\n",
    "        return \" \".join([item['text'] for item in transcript])\n",
    "    except Exception as e:\n",
    "        raise ValueError(\"Failed to fetch transcript: \" + str(e))"
   ]
  },
  {
   "cell_type": "code",
   "execution_count": 15,
   "id": "d7837890-fbb7-410f-8a86-29e26294fb6e",
   "metadata": {},
   "outputs": [],
   "source": [
    "def generate_summary():\n",
    "    youtube_url = url_entry.get()\n",
    "    try:\n",
    "        video_id = extract_video_id(youtube_url)\n",
    "        transcript = get_transcript(video_id)\n",
    "        processed_text = preprocess_text(transcript)\n",
    "        \n",
    "        summary = summarize_text(processed_text)  \n",
    "        result_text.delete(1.0, tk.END)\n",
    "        result_text.insert(tk.END, f\"Generated Summary:\\n{summary}\")\n",
    "    except Exception as e:\n",
    "        messagebox.showerror(\"Error\", str(e))"
   ]
  },
  {
   "cell_type": "code",
   "execution_count": 17,
   "id": "b1c7978c-7943-41cd-94e7-ce88d46cbf83",
   "metadata": {},
   "outputs": [],
   "source": [
    "def clear_fields():\n",
    "    url_entry.delete(0, tk.END)\n",
    "    result_text.delete(1.0, tk.END)"
   ]
  },
  {
   "cell_type": "code",
   "execution_count": 19,
   "id": "38c0ccaa-71f3-4abc-892a-c5c20b240e82",
   "metadata": {},
   "outputs": [
    {
     "name": "stderr",
     "output_type": "stream",
     "text": [
      "2024-12-18 22:04:48.209 python[10390:271583] +[IMKClient subclass]: chose IMKClient_Modern\n",
      "2024-12-18 22:04:48.209 python[10390:271583] +[IMKInputSession subclass]: chose IMKInputSession_Modern\n"
     ]
    }
   ],
   "source": [
    "root = tk.Tk()\n",
    "root.title(\"YouTube Transcript Summarizer\")\n",
    "root.geometry(\"1200x900\")\n",
    "root.config(bg=\"#e6f2ff\")\n",
    "\n",
    "input_frame = tk.Frame(root, bg=\"#e6f2ff\")\n",
    "input_frame.pack(pady=20)\n",
    "\n",
    "url_label = tk.Label(input_frame, text=\"Enter YouTube Video URL:\", font=(\"Arial\", 12), bg=\"#e6f2ff\", fg=\"#004d80\")\n",
    "url_label.grid(row=0, column=0, padx=5)\n",
    "\n",
    "url_entry = tk.Entry(input_frame, width=80, font=(\"Arial\", 12), bg=\"#ffffff\", fg=\"#004d80\", borderwidth=2, relief=\"solid\")\n",
    "url_entry.grid(row=0, column=1, padx=5)\n",
    "\n",
    "generate_button = tk.Button(input_frame, text=\"Generate Summary\", font=(\"Arial\", 12), bg=\"#4da6ff\", fg=\"red\", borderwidth=2, relief=\"solid\", command=generate_summary)\n",
    "generate_button.grid(row=1, column=0, columnspan=2, pady=10)\n",
    "\n",
    "clear_button = tk.Button(input_frame, text=\"Clear\", font=(\"Arial\", 12), bg=\"#ff6666\", fg=\"red\", borderwidth=2, relief=\"solid\", command=clear_fields)\n",
    "clear_button.grid(row=1, column=2, padx=5)\n",
    "\n",
    "result_frame = tk.Frame(root, bg=\"#e6f2ff\")\n",
    "result_frame.pack(pady=10)\n",
    "\n",
    "result_text = scrolledtext.ScrolledText(result_frame, wrap=tk.WORD, height=30, width=100, font=(\"Arial\", 12), bg=\"#ffffff\", fg=\"#004d80\", borderwidth=2, relief=\"solid\")\n",
    "result_text.pack()\n",
    "\n",
    "root.mainloop()\n"
   ]
  },
  {
   "cell_type": "code",
   "execution_count": null,
   "id": "2b789e81-fb32-4ba3-aa7b-6a0dd231ccca",
   "metadata": {},
   "outputs": [],
   "source": []
  }
 ],
 "metadata": {
  "kernelspec": {
   "display_name": "Python 3 (ipykernel)",
   "language": "python",
   "name": "python3"
  },
  "language_info": {
   "codemirror_mode": {
    "name": "ipython",
    "version": 3
   },
   "file_extension": ".py",
   "mimetype": "text/x-python",
   "name": "python",
   "nbconvert_exporter": "python",
   "pygments_lexer": "ipython3",
   "version": "3.12.7"
  }
 },
 "nbformat": 4,
 "nbformat_minor": 5
}
